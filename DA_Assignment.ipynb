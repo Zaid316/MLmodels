{
  "nbformat": 4,
  "nbformat_minor": 0,
  "metadata": {
    "colab": {
      "name": "DA_Assignment",
      "provenance": [],
      "authorship_tag": "ABX9TyOX+UvLxpWnDlGeJKqV0CSt",
      "include_colab_link": true
    },
    "kernelspec": {
      "name": "python3",
      "display_name": "Python 3"
    },
    "language_info": {
      "name": "python"
    }
  },
  "cells": [
    {
      "cell_type": "markdown",
      "metadata": {
        "id": "view-in-github",
        "colab_type": "text"
      },
      "source": [
        "<a href=\"https://colab.research.google.com/github/Zaid316/MLmodels/blob/main/DA_Assignment.ipynb\" target=\"_parent\"><img src=\"https://colab.research.google.com/assets/colab-badge.svg\" alt=\"Open In Colab\"/></a>"
      ]
    },
    {
      "cell_type": "code",
      "execution_count": null,
      "metadata": {
        "id": "nyEXL5QDPDRH"
      },
      "outputs": [],
      "source": [
        "import pandas as pd\n",
        "import numpy as np"
      ]
    },
    {
      "cell_type": "code",
      "source": [
        "df = pd.read_csv(\"/content/HospitalCosts.csv\")\n",
        "\n",
        "pop_mean = df[\"TOTCHG\"].mean()"
      ],
      "metadata": {
        "id": "tKhRHTF5PdMM"
      },
      "execution_count": null,
      "outputs": []
    },
    {
      "cell_type": "code",
      "source": [
        "sample=df.head(20)\n",
        "print(sample)"
      ],
      "metadata": {
        "colab": {
          "base_uri": "https://localhost:8080/"
        },
        "id": "88nN7OHWQj09",
        "outputId": "9abd1547-3391-44e9-cac1-8c5cb5dea8fc"
      },
      "execution_count": null,
      "outputs": [
        {
          "output_type": "stream",
          "name": "stdout",
          "text": [
            "    AGE  FEMALE  LOS  RACE  TOTCHG  APRDRG\n",
            "0    17       1    2   1.0    2660     560\n",
            "1    17       0    2   1.0    1689     753\n",
            "2    17       1    7   1.0   20060     930\n",
            "3    17       1    1   1.0     736     758\n",
            "4    17       1    1   1.0    1194     754\n",
            "5    17       0    0   1.0    3305     347\n",
            "6    17       1    4   1.0    2205     754\n",
            "7    16       1    2   1.0    1167     754\n",
            "8    16       1    1   1.0     532     753\n",
            "9    17       1    2   1.0    1363     758\n",
            "10   17       1    2   1.0    1245     758\n",
            "11   15       0    2   1.0    1656     753\n",
            "12   15       1    2   1.0    1379     751\n",
            "13   15       1    4   1.0    2346     758\n",
            "14   15       1    7   1.0    4006     753\n",
            "15   15       1    4   1.0    2181     758\n",
            "16   14       1    1   1.0     628     754\n",
            "17   14       1    4   1.0    2463     758\n",
            "18   15       1    3   1.0    1956     753\n",
            "19   14       1    3   1.0    1802     758\n"
          ]
        }
      ]
    },
    {
      "cell_type": "code",
      "source": [
        "sample_mean = sample[\"TOTCHG\"].mean()"
      ],
      "metadata": {
        "id": "No12Gl--RJLM"
      },
      "execution_count": null,
      "outputs": []
    },
    {
      "cell_type": "code",
      "source": [
        "std_error = sample[\"TOTCHG\"].std() / np.sqrt(len(sample))\n",
        "print(std_error)"
      ],
      "metadata": {
        "colab": {
          "base_uri": "https://localhost:8080/"
        },
        "id": "UtTzybPRRYeE",
        "outputId": "b6dec33a-9e1d-44fc-907d-2722d7c64351"
      },
      "execution_count": null,
      "outputs": [
        {
          "output_type": "stream",
          "name": "stdout",
          "text": [
            "932.8969827342869\n"
          ]
        }
      ]
    },
    {
      "cell_type": "code",
      "source": [
        "t = (sample_mean - pop_mean)/std_error\n",
        "print(t)"
      ],
      "metadata": {
        "colab": {
          "base_uri": "https://localhost:8080/"
        },
        "id": "RTR8Xm6QSrJ9",
        "outputId": "de187d42-0af8-47d6-f6b6-bc20e65ff04b"
      },
      "execution_count": null,
      "outputs": [
        {
          "output_type": "stream",
          "name": "stdout",
          "text": [
            "-0.04902792146024894\n"
          ]
        }
      ]
    },
    {
      "cell_type": "markdown",
      "source": [
        ""
      ],
      "metadata": {
        "id": "6z-2vxczV2kZ"
      }
    }
  ]
}